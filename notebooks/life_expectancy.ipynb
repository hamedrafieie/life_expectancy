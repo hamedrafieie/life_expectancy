{
 "cells": [
  {
   "cell_type": "markdown",
   "metadata": {},
   "source": [
    "### Importing libraries"
   ]
  },
  {
   "cell_type": "code",
   "execution_count": 2,
   "metadata": {},
   "outputs": [],
   "source": [
    "import matplotlib as mpl\n",
    "import matplotlib.pyplot as plt\n",
    "import numpy as np\n",
    "import pandas as pd\n",
    "import seaborn as sns"
   ]
  },
  {
   "cell_type": "code",
   "execution_count": 3,
   "metadata": {},
   "outputs": [],
   "source": [
    "# Reading data\n",
    "train_data = pd.read_csv('../data/train.csv')\n",
    "test_data = pd.read_csv('../data/test.csv')"
   ]
  },
  {
   "cell_type": "markdown",
   "metadata": {},
   "source": [
    "# Feature Engineering"
   ]
  },
  {
   "cell_type": "code",
   "execution_count": 5,
   "metadata": {},
   "outputs": [
    {
     "data": {
      "text/plain": [
       "Country                   0\n",
       "Year                      0\n",
       "Status                    0\n",
       "Population              644\n",
       "Hepatitis B             542\n",
       "Measles                   0\n",
       "Polio                    19\n",
       "Diphtheria               19\n",
       "HIV/AIDS                  0\n",
       "infant deaths             0\n",
       "under-five deaths         0\n",
       "Total expenditure       221\n",
       "GDP                     442\n",
       "BMI                      32\n",
       "thinness  1-19 years     32\n",
       "Alcohol                 188\n",
       "Schooling               160\n",
       "Life expectancy           0\n",
       "dtype: int64"
      ]
     },
     "execution_count": 5,
     "metadata": {},
     "output_type": "execute_result"
    }
   ],
   "source": [
    "# Exploring the data\n",
    "train_data.isnull().sum()"
   ]
  },
  {
   "cell_type": "code",
   "execution_count": 6,
   "metadata": {},
   "outputs": [
    {
     "data": {
      "text/plain": [
       "Country                  object\n",
       "Year                      int64\n",
       "Status                   object\n",
       "Population              float64\n",
       "Hepatitis B             float64\n",
       "Measles                   int64\n",
       "Polio                   float64\n",
       "Diphtheria              float64\n",
       "HIV/AIDS                float64\n",
       "infant deaths             int64\n",
       "under-five deaths         int64\n",
       "Total expenditure       float64\n",
       "GDP                     float64\n",
       "BMI                     float64\n",
       "thinness  1-19 years    float64\n",
       "Alcohol                 float64\n",
       "Schooling               float64\n",
       "Life expectancy         float64\n",
       "dtype: object"
      ]
     },
     "execution_count": 6,
     "metadata": {},
     "output_type": "execute_result"
    }
   ],
   "source": [
    "train_data.dtypes"
   ]
  },
  {
   "cell_type": "code",
   "execution_count": 8,
   "metadata": {},
   "outputs": [],
   "source": [
    "# Converting non numeric data to numeric data\n",
    "train_data['Status'] = (train_data['Status'] == 'Developed').astype(int)\n",
    "test_data['Status'] = (test_data['Status'] == 'Developed').astype(int)"
   ]
  },
  {
   "cell_type": "code",
   "execution_count": 10,
   "metadata": {},
   "outputs": [],
   "source": [
    "# Filling missing values\n",
    "columns = train_data.drop(['Life expectancy', 'Country', 'Year', 'Status'], axis=1).columns.tolist()\n",
    "\n",
    "grouped = train_data.groupby('Country')\n",
    "\n",
    "for col in columns:\n",
    "    temp_mean = train_data[col].fillna(grouped[col].transform('mean'))\n",
    "    test_data[col] = test_data[col].fillna(temp_mean.mean())\n",
    "    train_data[col] = train_data[col].fillna(temp_mean.mean())\n",
    "    \n",
    "    temp_median = train_data[col].fillna(grouped[col].transform('median'))\n",
    "    test_data[col] = test_data[col].fillna(temp_median.mean())\n",
    "    train_data[col] = train_data[col].fillna(temp_median.mean())"
   ]
  },
  {
   "cell_type": "code",
   "execution_count": 11,
   "metadata": {},
   "outputs": [],
   "source": [
    "# Removing unneccesary columns and defining target value\n",
    "X = train_data.drop(['Life expectancy', 'Country', 'Year', 'Population', 'Hepatitis B', 'Alcohol'], axis=1)\n",
    "y = train_data['Life expectancy']\n",
    "test_data.drop(['Country', 'Year','Population', 'Hepatitis B', 'Alcohol'], axis=1, inplace=True)"
   ]
  },
  {
   "cell_type": "code",
   "execution_count": 13,
   "metadata": {},
   "outputs": [],
   "source": [
    "# Splitting and standardizing the data\n",
    "from sklearn.preprocessing import StandardScaler\n",
    "from sklearn.model_selection import train_test_split\n",
    "\n",
    "X_train, X_valid, y_train, y_valid= train_test_split(X, y, train_size=0.8, test_size=0.2, random_state=69)\n",
    "\n",
    "std_scaler = StandardScaler()\n",
    "X_train = std_scaler.fit_transform(X_train)\n",
    "X_valid = std_scaler.transform(X_valid)\n",
    "test_data = std_scaler.transform(test_data)"
   ]
  },
  {
   "cell_type": "markdown",
   "metadata": {},
   "source": [
    "## Modeling"
   ]
  },
  {
   "cell_type": "code",
   "execution_count": 14,
   "metadata": {},
   "outputs": [],
   "source": [
    "from sklearn.preprocessing import PolynomialFeatures\n",
    "\n",
    "poly_transformer = PolynomialFeatures()\n",
    "x_train_trans = poly_transformer.fit_transform(X_train)\n",
    "x_test_trans = poly_transformer.transform(X_valid)\n",
    "test_data_trans = poly_transformer.transform(test_data)"
   ]
  },
  {
   "cell_type": "code",
   "execution_count": 15,
   "metadata": {},
   "outputs": [],
   "source": [
    "from sklearn.linear_model import LinearRegression\n",
    "\n",
    "model = LinearRegression()\n",
    "model.fit(x_train_trans, y_train)\n",
    "y_pred = model.predict(x_test_trans)"
   ]
  },
  {
   "cell_type": "code",
   "execution_count": 16,
   "metadata": {},
   "outputs": [
    {
     "data": {
      "text/plain": [
       "0.8399516509882674"
      ]
     },
     "execution_count": 16,
     "metadata": {},
     "output_type": "execute_result"
    }
   ],
   "source": [
    "# Evaluate the model\n",
    "from sklearn.metrics import r2_score\n",
    "\n",
    "r2_score(y_valid, y_pred)"
   ]
  },
  {
   "cell_type": "code",
   "execution_count": null,
   "metadata": {},
   "outputs": [],
   "source": []
  }
 ],
 "metadata": {
  "kernelspec": {
   "display_name": "ml",
   "language": "python",
   "name": "python3"
  },
  "language_info": {
   "codemirror_mode": {
    "name": "ipython",
    "version": 3
   },
   "file_extension": ".py",
   "mimetype": "text/x-python",
   "name": "python",
   "nbconvert_exporter": "python",
   "pygments_lexer": "ipython3",
   "version": "3.12.0"
  }
 },
 "nbformat": 4,
 "nbformat_minor": 2
}
